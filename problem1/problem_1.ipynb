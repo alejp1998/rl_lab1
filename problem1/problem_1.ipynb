{
 "cells": [
  {
   "cell_type": "markdown",
   "metadata": {},
   "source": [
    "# LAB 1\n",
    "In this notebook, we use the following modules `numpy` and `minotaur_maze`. The latter is a home made module, where all the solutions to the questions are implemented. "
   ]
  },
  {
   "cell_type": "code",
   "execution_count": 1,
   "metadata": {},
   "outputs": [],
   "source": [
    "import numpy as np\n",
    "import minoutaur_maze as mz\n",
    "import matplotlib.pyplot as plt"
   ]
  },
  {
   "cell_type": "markdown",
   "metadata": {},
   "source": [
    "# Problem 1: The Maze and the Random Minotaur\n",
    "\n",
    "The objective of problem 1 is to solve the shortest path problem in a maze. We start first by describing the maze as a numpy array. "
   ]
  },
  {
   "cell_type": "code",
   "execution_count": 2,
   "metadata": {},
   "outputs": [],
   "source": [
    "# starting positions\n",
    "thomas_st = (0,0)\n",
    "minotaur_st = (6,5)\n",
    "\n",
    "# no need to pick key (we have it from the beginning)\n",
    "key_st = (1,)\n",
    "\n",
    "# starting state\n",
    "start = (thomas_st + minotaur_st + key_st)\n",
    "\n",
    "# Description of the maze as a numpy array\n",
    "maze = np.array([\n",
    "    [0, 0, 1, 0, 0, 0, 0, 0],\n",
    "    [0, 0, 1, 0, 0, 1, 0, 0],\n",
    "    [0, 0, 1, 0, 0, 1, 1, 1],\n",
    "    [0, 0, 1, 0, 0, 1, 0, 0],\n",
    "    [0, 0, 0, 0, 0, 0, 0, 0],\n",
    "    [0, 1, 1, 1, 1, 1, 1, 0],\n",
    "    [0, 0, 0, 0, 1, 2, 0, 0]\n",
    "])\n",
    "# with the convention \n",
    "# 0 = empty cell\n",
    "# 1 = obstacle\n",
    "# 2 = exit of the Maze"
   ]
  },
  {
   "cell_type": "markdown",
   "metadata": {},
   "source": [
    "The method `maze.draw_maze()` helps us draw the maze given its numpy array discription.  "
   ]
  },
  {
   "cell_type": "code",
   "execution_count": 3,
   "metadata": {},
   "outputs": [
    {
     "data": {
      "image/png": "[encoded data removed]",
      "text/plain": [
       "<matplotlib.figure.Figure at 0x7f153693a860>"
      ]
     },
     "metadata": {},
     "output_type": "display_data"
    }
   ],
   "source": [
    "mz.draw_maze(maze)"
   ]
  },
  {
   "cell_type": "markdown",
   "metadata": {},
   "source": [
    "## THE MINOTAUR CANNOT WAIT   "
   ]
  },
  {
   "cell_type": "code",
   "execution_count": 4,
   "metadata": {},
   "outputs": [
    {
     "name": "stdout",
     "output_type": "stream",
     "text": [
      "# states =  2240\n",
      "# actions =  5\n"
     ]
    }
   ],
   "source": [
    "# Create an environment maze\n",
    "minotaur_can_wait = False\n",
    "key_needed = False\n",
    "env_1 = mz.MinotaurMaze(maze,minotaur_can_wait,key_needed)\n",
    "#env_1.show()\n",
    "print('# states = ', env_1.n_states)\n",
    "print('# actions = ', env_1.n_actions)"
   ]
  },
  {
   "cell_type": "markdown",
   "metadata": {},
   "source": [
    "##  Dynamic Programming \n",
    "\n",
    "Before solving the MDP problem, recall that the finite horizon objective function is \n",
    "$$\n",
    "    \\mathbb{E} \\Big[ \\sum_{t=0}^T r(s_t, a_t) \\Big],\n",
    "$$\n",
    "where $T$ is the horizon.\n",
    "Recall the Bellman equation \n",
    "\\begin{equation}\n",
    "\\forall s \\in \\mathcal{S} \\qquad  V(s) = \\max_{a \\in \\mathcal{A}} \\Big\\lbrace r(s,a) + \\sum_{s' \\in \\mathcal{S}} \\mathbb{P}(s'\\vert s,a) V(s') \\Big\\rbrace\n",
    "\\end{equation}\n",
    "The dynamic programming solution for the finite horizon MDP problem consists of solving the above backward recursion. The method `maze.dynamic_programming` achieves this. \n",
    "> **Note:** To find the optimal path, it is enough to set the time horizon $T = 10$. Indeed, looking at the maze one can see that the player needs at least 10 steps to attain the exit $B$, if her starting position is at $A$. In fact if you set the time horizon less than 10, you will see that you do not find the optimal path.\n",
    "\n"
   ]
  },
  {
   "cell_type": "code",
   "execution_count": 5,
   "metadata": {},
   "outputs": [],
   "source": [
    "# Finite horizon\n",
    "horizon = 17\n",
    "# Solve the MDP problem with dynamic programming \n",
    "V, policy = mz.dynamic_programming(env_1,horizon)"
   ]
  },
  {
   "cell_type": "code",
   "execution_count": 6,
   "metadata": {},
   "outputs": [],
   "source": [
    "# Simulate the best path (reacting to random minotaur actions)\n",
    "method = 'DynProg'\n",
    "path, victory_prob = env_1.simulate(start, policy, method)"
   ]
  },
  {
   "cell_type": "code",
   "execution_count": 7,
   "metadata": {},
   "outputs": [
    {
     "data": {
      "image/png": "[encoded data removed]",
      "text/plain": [
       "<matplotlib.figure.Figure at 0x7f0ed8e84668>"
      ]
     },
     "metadata": {},
     "output_type": "display_data"
    }
   ],
   "source": [
    "# Animate path \n",
    "show_arrows = True\n",
    "fps = 1\n",
    "mz.animate_solution(maze, path, show_arrows, fps)"
   ]
  },
  {
   "cell_type": "code",
   "execution_count": 8,
   "metadata": {},
   "outputs": [],
   "source": [
    "cell_probs = env_1.minotaur_cell_probs(maze,minotaur_st,horizon)"
   ]
  },
  {
   "cell_type": "code",
   "execution_count": 9,
   "metadata": {},
   "outputs": [
    {
     "data": {
      "text/plain": [
       "<matplotlib.image.AxesImage at 0x7f0ec4bbf208>"
      ]
     },
     "execution_count": 9,
     "metadata": {},
     "output_type": "execute_result"
    },
    {
     "data": {
      "image/png": "[encoded data removed]",
      "text/plain": [
       "<matplotlib.figure.Figure at 0x7f0ec4c4c7b8>"
      ]
     },
     "metadata": {
      "needs_background": "light"
     },
     "output_type": "display_data"
    }
   ],
   "source": [
    "t = horizon\n",
    "plt.imshow(cell_probs[t,:,:])"
   ]
  },
  {
   "cell_type": "code",
   "execution_count": 10,
   "metadata": {},
   "outputs": [
    {
     "data": {
      "text/plain": [
       "1.0"
      ]
     },
     "execution_count": 10,
     "metadata": {},
     "output_type": "execute_result"
    }
   ],
   "source": [
    "# Victory prob if the path is fixed\n",
    "fixed_path_vict_prob = env_1.fixed_path_vict_prob(maze,path,cell_probs)\n",
    "fixed_path_vict_prob"
   ]
  },
  {
   "cell_type": "markdown",
   "metadata": {},
   "source": [
    "## POLICY THAT MAXIMIZES PROB. OF LEAVING FOR T = 20"
   ]
  },
  {
   "cell_type": "code",
   "execution_count": 11,
   "metadata": {},
   "outputs": [],
   "source": [
    "# Finite horizon\n",
    "horizon = 20\n",
    "# Solve the MDP problem with dynamic programming \n",
    "V, policy = mz.dynamic_programming(env_1,horizon)"
   ]
  },
  {
   "cell_type": "code",
   "execution_count": 12,
   "metadata": {},
   "outputs": [
    {
     "name": "stdout",
     "output_type": "stream",
     "text": [
      "# SIMULATIONS =  5000\n",
      "Mean Victory Prob =  1.0\n"
     ]
    }
   ],
   "source": [
    "# Simulate several paths and compute victory prob\n",
    "method = 'DynProg'\n",
    "N = 5000\n",
    "paths_dict = {}\n",
    "probs_dict = {}\n",
    "probs = []\n",
    "for n in range(N) :\n",
    "    path, victory_prob = env_1.simulate(start, policy, method)\n",
    "    paths_dict[n] = path\n",
    "    probs_dict[n] = victory_prob\n",
    "    probs.append(victory_prob)\n",
    "\n",
    "probs.sort()\n",
    "print('# SIMULATIONS = ', N)\n",
    "print('Mean Victory Prob = ', sum(probs)/len(probs))"
   ]
  },
  {
   "cell_type": "markdown",
   "metadata": {},
   "source": [
    "## POLICY THAT MAXIMIZES PROB FOR T = {1, ..., 30} AND PROBABILITY OF LEAVING THE MAZE FOR EACH T\n"
   ]
  },
  {
   "cell_type": "code",
   "execution_count": 14,
   "metadata": {},
   "outputs": [],
   "source": [
    "T_min = 1\n",
    "T_max = 30\n",
    "horizons = range(T_min,T_max+1)\n",
    "Vs, policys = [], []\n",
    "for horizon in horizons :\n",
    "    V, policy = mz.dynamic_programming(env_1,horizon)\n",
    "    Vs.append(V)\n",
    "    policys.append(policy)"
   ]
  },
  {
   "cell_type": "code",
   "execution_count": 15,
   "metadata": {},
   "outputs": [],
   "source": [
    "method = 'DynProg'\n",
    "N = 5000\n",
    "# Simulate N paths for each time horizon\n",
    "mean_victory_probs = []\n",
    "for i in range(T_max) :\n",
    "    probs = []\n",
    "    for n in range(N) :\n",
    "        path, victory_prob = env_1.simulate(start, policys[i], method)\n",
    "        probs.append(victory_prob)\n",
    "    # Compute mean victory prob\n",
    "    mean_victory_probs.append(sum(probs)/len(probs))"
   ]
  },
  {
   "cell_type": "code",
   "execution_count": 16,
   "metadata": {},
   "outputs": [
    {
     "data": {
      "text/plain": [
       "[<matplotlib.lines.Line2D at 0x7f0ec4a10470>]"
      ]
     },
     "execution_count": 16,
     "metadata": {},
     "output_type": "execute_result"
    },
    {
     "data": {
      "image/png": "[encoded data removed]",
      "text/plain": [
       "<matplotlib.figure.Figure at 0x7f0ec4c0c2b0>"
      ]
     },
     "metadata": {
      "needs_background": "light"
     },
     "output_type": "display_data"
    }
   ],
   "source": [
    "# Plot mean victory prob for each horizon\n",
    "plt.plot(horizons, mean_victory_probs, 'ro')"
   ]
  },
  {
   "cell_type": "markdown",
   "metadata": {},
   "source": [
    "## THE MINOTAUR CAN WAIT"
   ]
  },
  {
   "cell_type": "code",
   "execution_count": 17,
   "metadata": {},
   "outputs": [
    {
     "name": "stdout",
     "output_type": "stream",
     "text": [
      "# states =  2240\n",
      "# actions =  5\n"
     ]
    }
   ],
   "source": [
    "# Create an environment maze\n",
    "minotaur_can_wait = True\n",
    "key_needed = False\n",
    "env_2 = mz.MinotaurMaze(maze,minotaur_can_wait,key_needed)\n",
    "#env_2.show()\n",
    "print('# states = ', env_2.n_states)\n",
    "print('# actions = ', env_2.n_actions)"
   ]
  },
  {
   "cell_type": "markdown",
   "metadata": {},
   "source": [
    "##  Dynamic Programming \n",
    "\n",
    "Before solving the MDP problem, recall that the finite horizon objective function is \n",
    "$$\n",
    "    \\mathbb{E} \\Big[ \\sum_{t=0}^T r(s_t, a_t) \\Big],\n",
    "$$\n",
    "where $T$ is the horizon.\n",
    "Recall the Bellman equation \n",
    "\\begin{equation}\n",
    "\\forall s \\in \\mathcal{S} \\qquad  V(s) = \\max_{a \\in \\mathcal{A}} \\Big\\lbrace r(s,a) + \\sum_{s' \\in \\mathcal{S}} \\mathbb{P}(s'\\vert s,a) V(s') \\Big\\rbrace\n",
    "\\end{equation}\n",
    "The dynamic programming solution for the finite horizon MDP problem consists of solving the above backward recursion. The method `maze.dynamic_programming` achieves this. \n",
    "> **Note:** To find the optimal path, it is enough to set the time horizon $T = 10$. Indeed, looking at the maze one can see that the player needs at least 10 steps to attain the exit $B$, if her starting position is at $A$. In fact if you set the time horizon less than 10, you will see that you do not find the optimal path.\n"
   ]
  },
  {
   "cell_type": "code",
   "execution_count": 19,
   "metadata": {},
   "outputs": [],
   "source": [
    "# Finite horizon\n",
    "horizon = 20\n",
    "# Solve the MDP problem with dynamic programming \n",
    "V, policy = mz.dynamic_programming(env_2,horizon)"
   ]
  },
  {
   "cell_type": "code",
   "execution_count": 18,
   "metadata": {},
   "outputs": [],
   "source": [
    "# Simulate the best path (reacting to random minotaur actions)\n",
    "method = 'DynProg'\n",
    "path, victory_prob = env_2.simulate(start, policy, method)"
   ]
  },
  {
   "cell_type": "code",
   "execution_count": 19,
   "metadata": {},
   "outputs": [
    {
     "data": {
      "image/png": "[encoded data removed]",
      "text/plain": [
       "<matplotlib.figure.Figure at 0x7f0ec4c2c048>"
      ]
     },
     "metadata": {},
     "output_type": "display_data"
    }
   ],
   "source": [
    "# Animate path \n",
    "show_arrows = True\n",
    "fps = 1\n",
    "mz.animate_solution(maze, path, show_arrows, fps)"
   ]
  },
  {
   "cell_type": "code",
   "execution_count": 20,
   "metadata": {},
   "outputs": [],
   "source": [
    "# Cell probabilities\n",
    "cell_probs = env_2.minotaur_cell_probs(maze,minotaur_st,horizon)"
   ]
  },
  {
   "cell_type": "code",
   "execution_count": 21,
   "metadata": {},
   "outputs": [
    {
     "data": {
      "text/plain": [
       "<matplotlib.image.AxesImage at 0x7f0ec4c64ba8>"
      ]
     },
     "execution_count": 21,
     "metadata": {},
     "output_type": "execute_result"
    },
    {
     "data": {
      "image/png": "[encoded data removed]",
      "text/plain": [
       "<matplotlib.figure.Figure at 0x7f0ec4c104e0>"
      ]
     },
     "metadata": {
      "needs_background": "light"
     },
     "output_type": "display_data"
    }
   ],
   "source": [
    "t = horizon\n",
    "plt.imshow(cell_probs[t,:,:])"
   ]
  },
  {
   "cell_type": "code",
   "execution_count": 22,
   "metadata": {},
   "outputs": [
    {
     "data": {
      "text/plain": [
       "0.7116482058310947"
      ]
     },
     "execution_count": 22,
     "metadata": {},
     "output_type": "execute_result"
    }
   ],
   "source": [
    "# Victory prob if the path is fixed\n",
    "fixed_path_vict_prob = env_2.fixed_path_vict_prob(maze,path,cell_probs)\n",
    "fixed_path_vict_prob"
   ]
  },
  {
   "cell_type": "markdown",
   "metadata": {},
   "source": [
    "## POLICY THAT MAXIMIZES PROB FOR T = {1, ..., 30} AND PROBABILITY OF LEAVING THE MAZE FOR EACH T"
   ]
  },
  {
   "cell_type": "code",
   "execution_count": 23,
   "metadata": {},
   "outputs": [],
   "source": [
    "T_min = 1\n",
    "T_max = 30\n",
    "horizons = range(T_min,T_max+1)\n",
    "Vs, policys = [], []\n",
    "for horizon in horizons :\n",
    "    V, policy = mz.dynamic_programming(env_2,horizon)\n",
    "    Vs.append(V)\n",
    "    policys.append(policy)"
   ]
  },
  {
   "cell_type": "code",
   "execution_count": 24,
   "metadata": {},
   "outputs": [],
   "source": [
    "method = 'DynProg'\n",
    "N = 5000\n",
    "# Simulate N paths for each time horizon\n",
    "mean_victory_probs = []\n",
    "for i in range(T_max) :\n",
    "    probs = []\n",
    "    for n in range(N) :\n",
    "        path, victory_prob = env_2.simulate(start, policys[i], method)\n",
    "        probs.append(victory_prob)\n",
    "    # Compute mean victory prob\n",
    "    mean_victory_probs.append(sum(probs)/len(probs))"
   ]
  },
  {
   "cell_type": "code",
   "execution_count": 25,
   "metadata": {},
   "outputs": [
    {
     "data": {
      "text/plain": [
       "[<matplotlib.lines.Line2D at 0x7f0ed0da2f28>]"
      ]
     },
     "execution_count": 25,
     "metadata": {},
     "output_type": "execute_result"
    },
    {
     "data": {
      "image/png": "[encoded data removed]",
      "text/plain": [
       "<matplotlib.figure.Figure at 0x7f0ec4c86908>"
      ]
     },
     "metadata": {
      "needs_background": "light"
     },
     "output_type": "display_data"
    }
   ],
   "source": [
    "# Plot mean victory prob for each horizon\n",
    "plt.plot(horizons, mean_victory_probs, 'ro')"
   ]
  },
  {
   "cell_type": "markdown",
   "metadata": {},
   "source": [
    "## GEOMETRICALLY DISTRIBUTED LIFE (TIME HORIZON) WITH MEAN 30"
   ]
  },
  {
   "cell_type": "code",
   "execution_count": 26,
   "metadata": {},
   "outputs": [],
   "source": [
    "# Finite horizon\n",
    "gamma = 29/30\n",
    "epsilon = 0.0001\n",
    "# Solve the MDP problem with value iteration\n",
    "V, policy = mz.value_iteration(env_1,gamma,epsilon)"
   ]
  },
  {
   "cell_type": "code",
   "execution_count": 27,
   "metadata": {},
   "outputs": [],
   "source": [
    "# Simulate the best path (reacting to random minotaur actions)\n",
    "method = 'ValIter'\n",
    "path, victory_prob = env_1.simulate(start, policy, method)"
   ]
  },
  {
   "cell_type": "code",
   "execution_count": 28,
   "metadata": {},
   "outputs": [
    {
     "data": {
      "image/png": "[encoded data removed]",
      "text/plain": [
       "<matplotlib.figure.Figure at 0x7f0eb888de80>"
      ]
     },
     "metadata": {},
     "output_type": "display_data"
    }
   ],
   "source": [
    "# Animate path \n",
    "show_arrows = True\n",
    "fps = 1\n",
    "mz.animate_solution(maze, path, show_arrows, fps)"
   ]
  },
  {
   "cell_type": "markdown",
   "metadata": {},
   "source": [
    "## PROBABILITY OF GETTING OUT ALIVE USING THE VALUE ITERATION POLICY"
   ]
  },
  {
   "cell_type": "markdown",
   "metadata": {},
   "source": [
    "### If the minotaur cannot wait"
   ]
  },
  {
   "cell_type": "code",
   "execution_count": 35,
   "metadata": {},
   "outputs": [],
   "source": [
    "E_T_max = 62\n",
    "E_T_min = 2\n",
    "E_Ts = range(E_T_min,E_T_max,2)\n",
    "Vs, policys = [], []\n",
    "gammas = []\n",
    "epsilon = 0.0001\n",
    "for E_T in E_Ts :\n",
    "    gamma = (E_T-1)/E_T\n",
    "    gammas.append(gamma)\n",
    "    V, policy = mz.value_iteration(env_1,gamma,epsilon)\n",
    "    Vs.append(V)\n",
    "    policys.append(policy)"
   ]
  },
  {
   "cell_type": "code",
   "execution_count": 37,
   "metadata": {},
   "outputs": [],
   "source": [
    "method = 'ValIter'\n",
    "N = 5000\n",
    "# Simulate N paths for each gamma\n",
    "mean_victory_probs = []\n",
    "for i in range(len(gammas)) :\n",
    "    probs = []\n",
    "    for n in range(N) :\n",
    "        path, victory_prob = env_1.simulate(start, policys[i], method)\n",
    "        probs.append(victory_prob)\n",
    "    # Compute mean victory prob\n",
    "    mean_victory_probs.append(sum(probs)/len(probs))"
   ]
  },
  {
   "cell_type": "code",
   "execution_count": 38,
   "metadata": {},
   "outputs": [
    {
     "data": {
      "text/plain": [
       "[<matplotlib.lines.Line2D at 0x7f05ac7dcb70>]"
      ]
     },
     "execution_count": 38,
     "metadata": {},
     "output_type": "execute_result"
    },
    {
     "data": {
      "image/png": "[encoded data removed]",
      "text/plain": [
       "<matplotlib.figure.Figure at 0x7f05accce2e8>"
      ]
     },
     "metadata": {
      "needs_background": "light"
     },
     "output_type": "display_data"
    }
   ],
   "source": [
    "# Plot mean victory prob for each gamma\n",
    "plt.plot(gammas, mean_victory_probs, 'ro')"
   ]
  },
  {
   "cell_type": "markdown",
   "metadata": {},
   "source": [
    "### If the minotaur can wait"
   ]
  },
  {
   "cell_type": "code",
   "execution_count": 39,
   "metadata": {},
   "outputs": [],
   "source": [
    "E_T_max = 62\n",
    "E_T_min = 2\n",
    "E_Ts = range(E_T_min,E_T_max,2)\n",
    "Vs, policys = [], []\n",
    "gammas = []\n",
    "epsilon = 0.0001\n",
    "for E_T in E_Ts :\n",
    "    gamma = (E_T-1)/E_T\n",
    "    gammas.append(gamma)\n",
    "    V, policy = mz.value_iteration(env_2,gamma,epsilon)\n",
    "    Vs.append(V)\n",
    "    policys.append(policy)"
   ]
  },
  {
   "cell_type": "code",
   "execution_count": 40,
   "metadata": {},
   "outputs": [],
   "source": [
    "method = 'ValIter'\n",
    "N = 5000\n",
    "# Simulate N paths for each gamma\n",
    "mean_victory_probs = []\n",
    "for i in range(len(gammas)) :\n",
    "    probs = []\n",
    "    for n in range(N) :\n",
    "        path, victory_prob = env_2.simulate(start, policys[i], method)\n",
    "        probs.append(victory_prob)\n",
    "    # Compute mean victory prob\n",
    "    mean_victory_probs.append(sum(probs)/len(probs))"
   ]
  },
  {
   "cell_type": "code",
   "execution_count": 41,
   "metadata": {},
   "outputs": [
    {
     "data": {
      "text/plain": [
       "[<matplotlib.lines.Line2D at 0x7f05ac7bf748>]"
      ]
     },
     "execution_count": 41,
     "metadata": {},
     "output_type": "execute_result"
    },
    {
     "data": {
      "image/png": "[encoded data removed]",
      "text/plain": [
       "<matplotlib.figure.Figure at 0x7f05ac8d8e48>"
      ]
     },
     "metadata": {
      "needs_background": "light"
     },
     "output_type": "display_data"
    }
   ],
   "source": [
    "# Plot mean victory prob for each gamma\n",
    "plt.plot(gammas, mean_victory_probs, 'ro')"
   ]
  },
  {
   "cell_type": "markdown",
   "metadata": {},
   "source": [
    "## IF WE NEED THE KEY TO SCAPE"
   ]
  },
  {
   "cell_type": "code",
   "execution_count": 3,
   "metadata": {},
   "outputs": [],
   "source": [
    "# starting positions\n",
    "thomas_st = (0,0)\n",
    "minotaur_st = (6,5)\n",
    "\n",
    "# we need to pick the key (we dont have it from the beginning)\n",
    "key_st = (0,)\n",
    "\n",
    "# starting state\n",
    "start = (thomas_st + minotaur_st + key_st)\n",
    "\n",
    "# Description of the maze as a numpy array\n",
    "maze = np.array([\n",
    "    [0, 0, 1, 0, 0, 0, 0, 3],\n",
    "    [0, 0, 1, 0, 0, 1, 0, 0],\n",
    "    [0, 0, 1, 0, 0, 1, 1, 1],\n",
    "    [0, 0, 1, 0, 0, 1, 0, 0],\n",
    "    [0, 0, 0, 0, 0, 0, 0, 0],\n",
    "    [0, 1, 1, 1, 1, 1, 1, 0],\n",
    "    [0, 0, 0, 0, 1, 2, 0, 0]\n",
    "])\n",
    "# with the convention \n",
    "# 0 = empty cell\n",
    "# 1 = obstacle\n",
    "# 2 = exit of the Maze\n",
    "# 3 = key"
   ]
  },
  {
   "cell_type": "code",
   "execution_count": 4,
   "metadata": {},
   "outputs": [
    {
     "name": "stdout",
     "output_type": "stream",
     "text": [
      "# states =  4480\n",
      "# actions =  5\n"
     ]
    }
   ],
   "source": [
    "# Create an environment maze\n",
    "minotaur_can_wait = False\n",
    "key_needed = True\n",
    "env_3 = mz.MinotaurMaze(maze,minotaur_can_wait,key_needed)\n",
    "#env_1.show()\n",
    "print('# states = ', env_3.n_states)\n",
    "print('# actions = ', env_3.n_actions)"
   ]
  },
  {
   "cell_type": "code",
   "execution_count": 5,
   "metadata": {},
   "outputs": [],
   "source": [
    "# Finite horizon\n",
    "gamma = 59/60\n",
    "epsilon = 0.0001\n",
    "# Solve the MDP problem with value iteration\n",
    "V, policy = mz.value_iteration(env_3,gamma,epsilon)"
   ]
  },
  {
   "cell_type": "code",
   "execution_count": 6,
   "metadata": {},
   "outputs": [],
   "source": [
    "# Simulate the best path (reacting to random minotaur actions)\n",
    "method = 'ValIter'\n",
    "path, victory_prob = env_3.simulate(start, policy, method)"
   ]
  },
  {
   "cell_type": "code",
   "execution_count": 7,
   "metadata": {},
   "outputs": [
    {
     "data": {
      "image/png": "[encoded data removed]",
      "text/plain": [
       "<matplotlib.figure.Figure at 0x7f5541d02630>"
      ]
     },
     "metadata": {},
     "output_type": "display_data"
    }
   ],
   "source": [
    "# Animate path \n",
    "show_arrows = True\n",
    "fps = 10\n",
    "mz.animate_solution(maze, path, show_arrows, fps)"
   ]
  },
  {
   "cell_type": "markdown",
   "metadata": {},
   "source": [
    "# KEY NEEDED WITH Q-LEARNING"
   ]
  },
  {
   "cell_type": "code",
   "execution_count": 9,
   "metadata": {},
   "outputs": [
    {
     "ename": "KeyError",
     "evalue": "(5, 2, 6, 6, 0)",
     "output_type": "error",
     "traceback": [
      "\u001b[0;31m---------------------------------------------------------------------------\u001b[0m",
      "\u001b[0;31mKeyError\u001b[0m                                  Traceback (most recent call last)",
      "\u001b[0;32m<ipython-input-9-c2b4b57f78cf>\u001b[0m in \u001b[0;36m<module>\u001b[0;34m\u001b[0m\n\u001b[1;32m      6\u001b[0m     \u001b[0mn_episodes\u001b[0m\u001b[0;34m=\u001b[0m\u001b[0;36m10000\u001b[0m\u001b[0;34m,\u001b[0m\u001b[0;34m\u001b[0m\u001b[0;34m\u001b[0m\u001b[0m\n\u001b[1;32m      7\u001b[0m     \u001b[0mmax_iters\u001b[0m\u001b[0;34m=\u001b[0m\u001b[0;36m1000\u001b[0m\u001b[0;34m,\u001b[0m\u001b[0;34m\u001b[0m\u001b[0;34m\u001b[0m\u001b[0m\n\u001b[0;32m----> 8\u001b[0;31m     \u001b[0mexp_decreasing_decay\u001b[0m\u001b[0;34m=\u001b[0m\u001b[0;36m0.001\u001b[0m\u001b[0;34m\u001b[0m\u001b[0;34m\u001b[0m\u001b[0m\n\u001b[0m\u001b[1;32m      9\u001b[0m )\n",
      "\u001b[0;32m/afs/kth.se/home/a/l/aljp/Development/rl/lab1/problem1/minoutaur_maze.py\u001b[0m in \u001b[0;36mqLearning\u001b[0;34m(env, start, lr, gamma, epsilon, n_episodes, max_iters, exp_decreasing_decay)\u001b[0m\n\u001b[1;32m    657\u001b[0m \u001b[0;34m\u001b[0m\u001b[0m\n\u001b[1;32m    658\u001b[0m             \u001b[0;31m# We take the action in the environment\u001b[0m\u001b[0;34m\u001b[0m\u001b[0;34m\u001b[0m\u001b[0;34m\u001b[0m\u001b[0m\n\u001b[0;32m--> 659\u001b[0;31m             \u001b[0mnext_s\u001b[0m \u001b[0;34m=\u001b[0m \u001b[0menv\u001b[0m\u001b[0;34m.\u001b[0m\u001b[0mmove\u001b[0m\u001b[0;34m(\u001b[0m\u001b[0ms\u001b[0m\u001b[0;34m,\u001b[0m\u001b[0ma\u001b[0m\u001b[0;34m)\u001b[0m\u001b[0;34m\u001b[0m\u001b[0;34m\u001b[0m\u001b[0m\n\u001b[0m\u001b[1;32m    660\u001b[0m \u001b[0;34m\u001b[0m\u001b[0m\n\u001b[1;32m    661\u001b[0m             \u001b[0;31m# Are we already in a terminal state?\u001b[0m\u001b[0;34m\u001b[0m\u001b[0;34m\u001b[0m\u001b[0;34m\u001b[0m\u001b[0m\n",
      "\u001b[0;32m/afs/kth.se/home/a/l/aljp/Development/rl/lab1/problem1/minoutaur_maze.py\u001b[0m in \u001b[0;36mmove\u001b[0;34m(self, state, action)\u001b[0m\n\u001b[1;32m    316\u001b[0m \u001b[0;34m\u001b[0m\u001b[0m\n\u001b[1;32m    317\u001b[0m \u001b[0;34m\u001b[0m\u001b[0m\n\u001b[0;32m--> 318\u001b[0;31m         \u001b[0mnext_state\u001b[0m \u001b[0;34m=\u001b[0m \u001b[0mself\u001b[0m\u001b[0;34m.\u001b[0m\u001b[0mmapping\u001b[0m\u001b[0;34m[\u001b[0m\u001b[0;34m(\u001b[0m\u001b[0mnext_i_t\u001b[0m\u001b[0;34m,\u001b[0m\u001b[0mnext_j_t\u001b[0m\u001b[0;34m,\u001b[0m\u001b[0mnext_i_m\u001b[0m\u001b[0;34m,\u001b[0m\u001b[0mnext_j_m\u001b[0m\u001b[0;34m,\u001b[0m\u001b[0mkey\u001b[0m\u001b[0;34m)\u001b[0m\u001b[0;34m]\u001b[0m\u001b[0;34m\u001b[0m\u001b[0;34m\u001b[0m\u001b[0m\n\u001b[0m\u001b[1;32m    319\u001b[0m \u001b[0;34m\u001b[0m\u001b[0m\n\u001b[1;32m    320\u001b[0m         \u001b[0;32mreturn\u001b[0m \u001b[0mnext_state\u001b[0m\u001b[0;34m\u001b[0m\u001b[0;34m\u001b[0m\u001b[0m\n",
      "\u001b[0;31mKeyError\u001b[0m: (5, 2, 6, 6, 0)"
     ]
    }
   ],
   "source": [
    "# Learning rate\n",
    "lr = 0.1\n",
    "# Initial exploration prob.\n",
    "epsilon = 1\n",
    "Q, episodes_tot_reward = mz.qLearning(env_3, start, lr, gamma, epsilon, \n",
    "    n_episodes=10000, \n",
    "    max_iters=1000, \n",
    "    exp_decreasing_decay=0.001\n",
    ")"
   ]
  },
  {
   "cell_type": "code",
   "execution_count": null,
   "metadata": {},
   "outputs": [],
   "source": []
  }
 ],
 "metadata": {
  "@webio": {
   "lastCommId": null,
   "lastKernelId": null
  },
  "kernelspec": {
   "display_name": "Python 3",
   "language": "python",
   "name": "python3"
  },
  "language_info": {
   "codemirror_mode": {
    "name": "ipython",
    "version": 3
   },
   "file_extension": ".py",
   "mimetype": "text/x-python",
   "name": "python",
   "nbconvert_exporter": "python",
   "pygments_lexer": "ipython3",
   "version": "3.6.9"
  }
 },
 "nbformat": 4,
 "nbformat_minor": 2
}
