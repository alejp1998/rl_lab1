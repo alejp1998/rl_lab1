{
 "cells": [
  {
   "cell_type": "markdown",
   "metadata": {},
   "source": [
    "# LAB 1\n",
    "In this notebook, we use the following modules `numpy` and `minotaur_maze`. The latter is a home made module, where all the solutions to the questions are implemented. "
   ]
  },
  {
   "cell_type": "code",
   "execution_count": 1,
   "metadata": {},
   "outputs": [],
   "source": [
    "import numpy as np\n",
    "import minoutaur_maze as mz\n",
    "import matplotlib.pyplot as plt"
   ]
  },
  {
   "cell_type": "markdown",
   "metadata": {},
   "source": [
    "# Problem 1: The Maze and the Random Minotaur\n",
    "\n",
    "The objective of problem 1 is to solve the shortest path problem in a maze. We start first by describing the maze as a numpy array. "
   ]
  },
  {
   "cell_type": "code",
   "execution_count": 2,
   "metadata": {},
   "outputs": [],
   "source": [
    "# starting positions\n",
    "thomas_st = (0,0)\n",
    "minotaur_st = (6,5)\n",
    "\n",
    "# Description of the maze as a numpy array\n",
    "maze = np.array([\n",
    "    [0, 0, 1, 0, 0, 0, 0, 0],\n",
    "    [0, 0, 1, 0, 0, 1, 0, 0],\n",
    "    [0, 0, 1, 0, 0, 1, 1, 1],\n",
    "    [0, 0, 1, 0, 0, 1, 0, 0],\n",
    "    [0, 0, 0, 0, 0, 0, 0, 0],\n",
    "    [0, 1, 1, 1, 1, 1, 1, 0],\n",
    "    [0, 0, 0, 0, 1, 2, 0, 0]\n",
    "])\n",
    "# with the convention \n",
    "# 0 = empty cell\n",
    "# 1 = obstacle\n",
    "# 2 = exit of the Maze"
   ]
  },
  {
   "cell_type": "markdown",
   "metadata": {},
   "source": [
    "The method `maze.draw_maze()` helps us draw the maze given its numpy array discription.  "
   ]
  },
  {
   "cell_type": "code",
   "execution_count": 3,
   "metadata": {},
   "outputs": [
    {
     "data": {
      "image/png": "[encoded data removed]",
      "text/plain": [
       "<matplotlib.figure.Figure at 0x7f1e3d8c2470>"
      ]
     },
     "metadata": {},
     "output_type": "display_data"
    }
   ],
   "source": [
    "mz.draw_maze(maze)"
   ]
  },
  {
   "cell_type": "markdown",
   "metadata": {},
   "source": [
    "## THE MINOTAUR CANNOT WAIT   "
   ]
  },
  {
   "cell_type": "code",
   "execution_count": 4,
   "metadata": {},
   "outputs": [
    {
     "name": "stdout",
     "output_type": "stream",
     "text": [
      "# states =  2240\n",
      "# actions =  5\n"
     ]
    }
   ],
   "source": [
    "# Create an environment maze\n",
    "minotaur_can_wait = False\n",
    "env_1 = mz.MinotaurMaze(maze,minotaur_can_wait)\n",
    "#env_1.show()\n",
    "print('# states = ', env_1.n_states)\n",
    "print('# actions = ', env_1.n_actions)"
   ]
  },
  {
   "cell_type": "markdown",
   "metadata": {},
   "source": [
    "##  Dynamic Programming \n",
    "\n",
    "Before solving the MDP problem, recall that the finite horizon objective function is \n",
    "$$\n",
    "    \\mathbb{E} \\Big[ \\sum_{t=0}^T r(s_t, a_t) \\Big],\n",
    "$$\n",
    "where $T$ is the horizon.\n",
    "Recall the Bellman equation \n",
    "\\begin{equation}\n",
    "\\forall s \\in \\mathcal{S} \\qquad  V(s) = \\max_{a \\in \\mathcal{A}} \\Big\\lbrace r(s,a) + \\sum_{s' \\in \\mathcal{S}} \\mathbb{P}(s'\\vert s,a) V(s') \\Big\\rbrace\n",
    "\\end{equation}\n",
    "The dynamic programming solution for the finite horizon MDP problem consists of solving the above backward recursion. The method `maze.dynamic_programming` achieves this. \n",
    "> **Note:** To find the optimal path, it is enough to set the time horizon $T = 10$. Indeed, looking at the maze one can see that the player needs at least 10 steps to attain the exit $B$, if her starting position is at $A$. In fact if you set the time horizon less than 10, you will see that you do not find the optimal path.\n",
    "\n"
   ]
  },
  {
   "cell_type": "code",
   "execution_count": 6,
   "metadata": {},
   "outputs": [],
   "source": [
    "# Finite horizon\n",
    "horizon = 17\n",
    "# Solve the MDP problem with dynamic programming \n",
    "V, policy = mz.dynamic_programming(env_1,horizon)"
   ]
  },
  {
   "cell_type": "code",
   "execution_count": 57,
   "metadata": {},
   "outputs": [],
   "source": [
    "# Simulate the best path (reacting to random minotaur actions)\n",
    "method = 'DynProg'\n",
    "start  = (thomas_st + minotaur_st)\n",
    "path, victory_prob = env_1.simulate(start, policy, method)"
   ]
  },
  {
   "cell_type": "code",
   "execution_count": 58,
   "metadata": {},
   "outputs": [
    {
     "data": {
      "image/png": "[encoded data removed]",
      "text/plain": [
       "<matplotlib.figure.Figure at 0x7f52ac8e4400>"
      ]
     },
     "metadata": {},
     "output_type": "display_data"
    }
   ],
   "source": [
    "# Animate path \n",
    "mz.animate_solution(maze, path)"
   ]
  },
  {
   "cell_type": "code",
   "execution_count": 59,
   "metadata": {},
   "outputs": [],
   "source": [
    "cell_probs = env_1.minotaur_cell_probs(maze,minotaur_st,horizon)"
   ]
  },
  {
   "cell_type": "code",
   "execution_count": 60,
   "metadata": {},
   "outputs": [
    {
     "data": {
      "text/plain": [
       "<matplotlib.image.AxesImage at 0x7f52ac861860>"
      ]
     },
     "execution_count": 60,
     "metadata": {},
     "output_type": "execute_result"
    },
    {
     "data": {
      "image/png": "[encoded data removed]",
      "text/plain": [
       "<matplotlib.figure.Figure at 0x7f52ac8df2e8>"
      ]
     },
     "metadata": {
      "needs_background": "light"
     },
     "output_type": "display_data"
    }
   ],
   "source": [
    "t = horizon\n",
    "plt.imshow(cell_probs[t,:,:])"
   ]
  },
  {
   "cell_type": "code",
   "execution_count": 10,
   "metadata": {},
   "outputs": [
    {
     "data": {
      "text/plain": [
       "0"
      ]
     },
     "execution_count": 10,
     "metadata": {},
     "output_type": "execute_result"
    }
   ],
   "source": [
    "# Victory prob if the path is fixed\n",
    "fixed_path_vict_prob = env_1.fixed_path_vict_prob(maze,path,cell_probs)\n",
    "fixed_path_vict_prob"
   ]
  },
  {
   "cell_type": "markdown",
   "metadata": {},
   "source": [
    "## POLICY THAT MAXIMIZES PROB. OF LEAVING FOR T = 20"
   ]
  },
  {
   "cell_type": "code",
   "execution_count": 30,
   "metadata": {},
   "outputs": [],
   "source": [
    "# Finite horizon\n",
    "horizon = 20\n",
    "# Solve the MDP problem with dynamic programming \n",
    "V, policy = mz.dynamic_programming(env_1,horizon)"
   ]
  },
  {
   "cell_type": "code",
   "execution_count": 33,
   "metadata": {},
   "outputs": [
    {
     "name": "stdout",
     "output_type": "stream",
     "text": [
      "# SIMULATIONS =  5000\n",
      "Mean Victory Prob =  1.0\n"
     ]
    }
   ],
   "source": [
    "# Simulate several paths and compute victory prob\n",
    "method = 'DynProg'\n",
    "start  = (thomas_st + minotaur_st)\n",
    "N = 5000\n",
    "paths_dict = {}\n",
    "probs_dict = {}\n",
    "probs = []\n",
    "for n in range(N) :\n",
    "    path, victory_prob = env_1.simulate(start, policy, method)\n",
    "    paths_dict[n] = path\n",
    "    probs_dict[n] = victory_prob\n",
    "    probs.append(victory_prob)\n",
    "\n",
    "probs.sort()\n",
    "print('# SIMULATIONS = ', N)\n",
    "print('Mean Victory Prob = ', sum(probs)/len(probs))"
   ]
  },
  {
   "cell_type": "markdown",
   "metadata": {},
   "source": [
    "## POLICY THAT MAXIMIZES PROB FOR T = {1, ..., 30} AND PROBABILITY OF LEAVING THE MAZE FOR EACH T\n"
   ]
  },
  {
   "cell_type": "code",
   "execution_count": 38,
   "metadata": {},
   "outputs": [],
   "source": [
    "T_min = 1\n",
    "T_max = 30\n",
    "horizons = range(T_min,T_max+1)\n",
    "Vs, policys = [], []\n",
    "for horizon in horizons :\n",
    "    V, policy = mz.dynamic_programming(env_1,horizon)\n",
    "    Vs.append(V)\n",
    "    policys.append(policy)"
   ]
  },
  {
   "cell_type": "code",
   "execution_count": 41,
   "metadata": {},
   "outputs": [],
   "source": [
    "method = 'DynProg'\n",
    "start  = (thomas_st + minotaur_st)\n",
    "N = 5000\n",
    "# Simulate N paths for each time horizon\n",
    "mean_victory_probs = []\n",
    "for i in range(T_max) :\n",
    "    probs = []\n",
    "    for n in range(N) :\n",
    "        path, victory_prob = env_1.simulate(start, policys[i], method)\n",
    "        probs.append(victory_prob)\n",
    "    # Compute mean victory prob\n",
    "    mean_victory_probs.append(sum(probs)/len(probs))"
   ]
  },
  {
   "cell_type": "code",
   "execution_count": 44,
   "metadata": {},
   "outputs": [
    {
     "data": {
      "text/plain": [
       "[<matplotlib.lines.Line2D at 0x7f52ac9d5518>]"
      ]
     },
     "execution_count": 44,
     "metadata": {},
     "output_type": "execute_result"
    },
    {
     "data": {
      "image/png": "[encoded data removed]",
      "text/plain": [
       "<matplotlib.figure.Figure at 0x7f52ac7fe668>"
      ]
     },
     "metadata": {
      "needs_background": "light"
     },
     "output_type": "display_data"
    }
   ],
   "source": [
    "# Plot mean victory prob for each horizon\n",
    "plt.plot(horizons, mean_victory_probs, 'ro')"
   ]
  },
  {
   "cell_type": "markdown",
   "metadata": {},
   "source": [
    "## THE MINOTAUR CAN WAIT"
   ]
  },
  {
   "cell_type": "code",
   "execution_count": 19,
   "metadata": {},
   "outputs": [
    {
     "name": "stdout",
     "output_type": "stream",
     "text": [
      "# states =  2240\n",
      "# actions =  5\n"
     ]
    }
   ],
   "source": [
    "# Create an environment maze\n",
    "minotaur_can_wait = True\n",
    "env_2 = mz.MinotaurMaze(maze,minotaur_can_wait)\n",
    "#env_2.show()\n",
    "print('# states = ', env_2.n_states)\n",
    "print('# actions = ', env_2.n_actions)"
   ]
  },
  {
   "cell_type": "markdown",
   "metadata": {},
   "source": [
    "##  Dynamic Programming \n",
    "\n",
    "Before solving the MDP problem, recall that the finite horizon objective function is \n",
    "$$\n",
    "    \\mathbb{E} \\Big[ \\sum_{t=0}^T r(s_t, a_t) \\Big],\n",
    "$$\n",
    "where $T$ is the horizon.\n",
    "Recall the Bellman equation \n",
    "\\begin{equation}\n",
    "\\forall s \\in \\mathcal{S} \\qquad  V(s) = \\max_{a \\in \\mathcal{A}} \\Big\\lbrace r(s,a) + \\sum_{s' \\in \\mathcal{S}} \\mathbb{P}(s'\\vert s,a) V(s') \\Big\\rbrace\n",
    "\\end{equation}\n",
    "The dynamic programming solution for the finite horizon MDP problem consists of solving the above backward recursion. The method `maze.dynamic_programming` achieves this. \n",
    "> **Note:** To find the optimal path, it is enough to set the time horizon $T = 10$. Indeed, looking at the maze one can see that the player needs at least 10 steps to attain the exit $B$, if her starting position is at $A$. In fact if you set the time horizon less than 10, you will see that you do not find the optimal path.\n"
   ]
  },
  {
   "cell_type": "code",
   "execution_count": 45,
   "metadata": {},
   "outputs": [],
   "source": [
    "# Finite horizon\n",
    "horizon = 20\n",
    "# Solve the MDP problem with dynamic programming \n",
    "V, policy = mz.dynamic_programming(env_2,horizon)"
   ]
  },
  {
   "cell_type": "code",
   "execution_count": 46,
   "metadata": {},
   "outputs": [],
   "source": [
    "# Simulate the best path (reacting to random minotaur actions)\n",
    "method = 'DynProg'\n",
    "start  = (thomas_st + minotaur_st)\n",
    "path, victory_prob = env_2.simulate(start, policy, method)"
   ]
  },
  {
   "cell_type": "code",
   "execution_count": 47,
   "metadata": {},
   "outputs": [
    {
     "data": {
      "image/png": "[encoded data removed]",
      "text/plain": [
       "<matplotlib.figure.Figure at 0x7f52ac9aeba8>"
      ]
     },
     "metadata": {},
     "output_type": "display_data"
    }
   ],
   "source": [
    "# Animate the path\n",
    "mz.animate_solution(maze, path)"
   ]
  },
  {
   "cell_type": "code",
   "execution_count": 48,
   "metadata": {},
   "outputs": [],
   "source": [
    "# Cell probabilities\n",
    "cell_probs = env_2.minotaur_cell_probs(maze,minotaur_st,horizon)"
   ]
  },
  {
   "cell_type": "code",
   "execution_count": 49,
   "metadata": {},
   "outputs": [
    {
     "data": {
      "text/plain": [
       "<matplotlib.image.AxesImage at 0x7f52ac8855f8>"
      ]
     },
     "execution_count": 49,
     "metadata": {},
     "output_type": "execute_result"
    },
    {
     "data": {
      "image/png": "[encoded data removed]",
      "text/plain": [
       "<matplotlib.figure.Figure at 0x7f52ac9b2860>"
      ]
     },
     "metadata": {
      "needs_background": "light"
     },
     "output_type": "display_data"
    }
   ],
   "source": [
    "t = horizon\n",
    "plt.imshow(cell_probs[t,:,:])"
   ]
  },
  {
   "cell_type": "code",
   "execution_count": 50,
   "metadata": {},
   "outputs": [
    {
     "data": {
      "text/plain": [
       "0.6985392064337559"
      ]
     },
     "execution_count": 50,
     "metadata": {},
     "output_type": "execute_result"
    }
   ],
   "source": [
    "# Victory prob if the path is fixed\n",
    "fixed_path_vict_prob = env_2.fixed_path_vict_prob(maze,path,cell_probs)\n",
    "fixed_path_vict_prob"
   ]
  },
  {
   "cell_type": "markdown",
   "metadata": {},
   "source": [
    "## POLICY THAT MAXIMIZES PROB FOR T = {1, ..., 30} AND PROBABILITY OF LEAVING THE MAZE FOR EACH T"
   ]
  },
  {
   "cell_type": "code",
   "execution_count": 51,
   "metadata": {},
   "outputs": [],
   "source": [
    "T_min = 1\n",
    "T_max = 30\n",
    "horizons = range(T_min,T_max+1)\n",
    "Vs, policys = [], []\n",
    "for horizon in horizons :\n",
    "    V, policy = mz.dynamic_programming(env_2,horizon)\n",
    "    Vs.append(V)\n",
    "    policys.append(policy)"
   ]
  },
  {
   "cell_type": "code",
   "execution_count": 61,
   "metadata": {},
   "outputs": [],
   "source": [
    "method = 'DynProg'\n",
    "start  = (thomas_st + minotaur_st)\n",
    "N = 5000\n",
    "# Simulate N paths for each time horizon\n",
    "mean_victory_probs = []\n",
    "for i in range(T_max) :\n",
    "    probs = []\n",
    "    for n in range(N) :\n",
    "        path, victory_prob = env_2.simulate(start, policys[i], method)\n",
    "        probs.append(victory_prob)\n",
    "    # Compute mean victory prob\n",
    "    mean_victory_probs.append(sum(probs)/len(probs))"
   ]
  },
  {
   "cell_type": "code",
   "execution_count": 62,
   "metadata": {},
   "outputs": [
    {
     "data": {
      "text/plain": [
       "[<matplotlib.lines.Line2D at 0x7f52ac787a20>]"
      ]
     },
     "execution_count": 62,
     "metadata": {},
     "output_type": "execute_result"
    },
    {
     "data": {
      "image/png": "[encoded data removed]",
      "text/plain": [
       "<matplotlib.figure.Figure at 0x7f52ac84de80>"
      ]
     },
     "metadata": {
      "needs_background": "light"
     },
     "output_type": "display_data"
    }
   ],
   "source": [
    "# Plot mean victory prob for each horizon\n",
    "plt.plot(horizons, mean_victory_probs, 'ro')"
   ]
  },
  {
   "cell_type": "markdown",
   "metadata": {},
   "source": [
    "## GEOMETRICALLY DISTRIBUTED LIFE (TIME HORIZON) WITH MEAN 30"
   ]
  },
  {
   "cell_type": "code",
   "execution_count": 5,
   "metadata": {},
   "outputs": [],
   "source": [
    "# Finite horizon\n",
    "gamma = 29/30\n",
    "epsilon = 0.0001\n",
    "# Solve the MDP problem with value iteration\n",
    "V, policy = mz.value_iteration(env_1,gamma,epsilon)"
   ]
  },
  {
   "cell_type": "code",
   "execution_count": 7,
   "metadata": {},
   "outputs": [],
   "source": [
    "# Simulate the best path (reacting to random minotaur actions)\n",
    "method = 'ValIter'\n",
    "start  = (thomas_st + minotaur_st)\n",
    "path, victory_prob = env_1.simulate(start, policy, method)"
   ]
  },
  {
   "cell_type": "code",
   "execution_count": 8,
   "metadata": {},
   "outputs": [
    {
     "data": {
      "image/png": "[encoded data removed]",
      "text/plain": [
       "<matplotlib.figure.Figure at 0x7f1e3d872d68>"
      ]
     },
     "metadata": {},
     "output_type": "display_data"
    }
   ],
   "source": [
    "# Animate path \n",
    "mz.animate_solution(maze, path)"
   ]
  },
  {
   "cell_type": "markdown",
   "metadata": {},
   "source": [
    "## PROBABILITY OF GETTING OUT ALIVE USING THE VALUE ITERATION POLICY"
   ]
  },
  {
   "cell_type": "markdown",
   "metadata": {},
   "source": [
    "### If the minotaur cannot wait"
   ]
  },
  {
   "cell_type": "code",
   "execution_count": 14,
   "metadata": {},
   "outputs": [],
   "source": [
    "E_T_max = 62\n",
    "E_T_min = 2\n",
    "E_Ts = range(E_T_min,E_T_max,2)\n",
    "Vs, policys = [], []\n",
    "gammas = []\n",
    "epsilon = 0.0001\n",
    "for E_T in E_Ts :\n",
    "    gamma = (E_T-1)/E_T\n",
    "    gammas.append(gamma)\n",
    "    V, policy = mz.value_iteration(env_1,gamma,epsilon)\n",
    "    Vs.append(V)\n",
    "    policys.append(policy)"
   ]
  },
  {
   "cell_type": "code",
   "execution_count": 17,
   "metadata": {},
   "outputs": [],
   "source": [
    "method = 'ValIter'\n",
    "start  = (thomas_st + minotaur_st)\n",
    "N = 5000\n",
    "# Simulate N paths for each gamma\n",
    "mean_victory_probs = []\n",
    "for i in range(len(gammas)) :\n",
    "    probs = []\n",
    "    for n in range(N) :\n",
    "        path, victory_prob = env_1.simulate(start, policys[i], method)\n",
    "        probs.append(victory_prob)\n",
    "    # Compute mean victory prob\n",
    "    mean_victory_probs.append(sum(probs)/len(probs))"
   ]
  },
  {
   "cell_type": "code",
   "execution_count": 18,
   "metadata": {},
   "outputs": [
    {
     "data": {
      "text/plain": [
       "[<matplotlib.lines.Line2D at 0x7f1e28d4f518>]"
      ]
     },
     "execution_count": 18,
     "metadata": {},
     "output_type": "execute_result"
    },
    {
     "data": {
      "image/png": "[encoded data removed]",
      "text/plain": [
       "<matplotlib.figure.Figure at 0x7f1e29209e80>"
      ]
     },
     "metadata": {
      "needs_background": "light"
     },
     "output_type": "display_data"
    }
   ],
   "source": [
    "# Plot mean victory prob for each gamma\n",
    "plt.plot(gammas, mean_victory_probs, 'ro')"
   ]
  },
  {
   "cell_type": "markdown",
   "metadata": {},
   "source": [
    "### If the minotaur cannot wait"
   ]
  },
  {
   "cell_type": "code",
   "execution_count": 23,
   "metadata": {},
   "outputs": [],
   "source": [
    "E_T_max = 62\n",
    "E_T_min = 2\n",
    "E_Ts = range(E_T_min,E_T_max,2)\n",
    "Vs, policys = [], []\n",
    "gammas = []\n",
    "epsilon = 0.0001\n",
    "for E_T in E_Ts :\n",
    "    gamma = (E_T-1)/E_T\n",
    "    gammas.append(gamma)\n",
    "    V, policy = mz.value_iteration(env_2,gamma,epsilon)\n",
    "    Vs.append(V)\n",
    "    policys.append(policy)"
   ]
  },
  {
   "cell_type": "code",
   "execution_count": null,
   "metadata": {},
   "outputs": [],
   "source": [
    "method = 'ValIter'\n",
    "start  = (thomas_st + minotaur_st)\n",
    "N = 5000\n",
    "# Simulate N paths for each gamma\n",
    "mean_victory_probs = []\n",
    "for i in range(len(gammas)) :\n",
    "    probs = []\n",
    "    for n in range(N) :\n",
    "        path, victory_prob = env_2.simulate(start, policys[i], method)\n",
    "        probs.append(victory_prob)\n",
    "    # Compute mean victory prob\n",
    "    mean_victory_probs.append(sum(probs)/len(probs))"
   ]
  },
  {
   "cell_type": "code",
   "execution_count": null,
   "metadata": {},
   "outputs": [],
   "source": [
    "# Plot mean victory prob for each gamma\n",
    "plt.plot(gammas, mean_victory_probs, 'ro')"
   ]
  }
 ],
 "metadata": {
  "@webio": {
   "lastCommId": null,
   "lastKernelId": null
  },
  "kernelspec": {
   "display_name": "Python 3",
   "language": "python",
   "name": "python3"
  },
  "language_info": {
   "codemirror_mode": {
    "name": "ipython",
    "version": 3
   },
   "file_extension": ".py",
   "mimetype": "text/x-python",
   "name": "python",
   "nbconvert_exporter": "python",
   "pygments_lexer": "ipython3",
   "version": "3.6.9"
  }
 },
 "nbformat": 4,
 "nbformat_minor": 2
}
